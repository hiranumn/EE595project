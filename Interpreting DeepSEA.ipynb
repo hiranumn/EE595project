{
 "cells": [
  {
   "cell_type": "code",
   "execution_count": 5,
   "metadata": {
    "collapsed": false
   },
   "outputs": [],
   "source": [
    "%matplotlib inline\n",
    "\n",
    "from deepsea import *\n",
    "from keras.models import load_model\n",
    "\n",
    "from IntegratedGradients import integrated_gradients\n",
    "\n",
    "import seaborn as sns\n",
    "import matplotlib.pyplot as plt\n",
    "\n",
    "from math import ceil\n",
    "\n",
    "import os"
   ]
  },
  {
   "cell_type": "code",
   "execution_count": 2,
   "metadata": {
    "collapsed": true
   },
   "outputs": [],
   "source": [
    "dsmodel = load_model(\"models/deepsea/weights-improvement-09-0.06-full.hdf5\")"
   ]
  },
  {
   "cell_type": "code",
   "execution_count": 3,
   "metadata": {
    "collapsed": true
   },
   "outputs": [],
   "source": [
    "dsmodel.compile(optimizer='adam',\n",
    "              loss='binary_crossentropy',\n",
    "              metrics=['accuracy'])"
   ]
  },
  {
   "cell_type": "code",
   "execution_count": 4,
   "metadata": {
    "collapsed": false
   },
   "outputs": [],
   "source": [
    "valid_X, valid_Y, train_X, train_Y, test_X, test_Y = loaddata(\"data/deepsea/\")"
   ]
  },
  {
   "cell_type": "markdown",
   "metadata": {},
   "source": [
    "# Explaining DeepSEA predictions"
   ]
  },
  {
   "cell_type": "code",
   "execution_count": 6,
   "metadata": {
    "collapsed": true
   },
   "outputs": [],
   "source": [
    "def extract_max_window(matrix, size=20, step=5):\n",
    "    _max = 0\n",
    "    _max_window = None\n",
    "    for i in range(0, matrix.shape[1]-size, step):\n",
    "        window = matrix[:, i:i+size]\n",
    "        if np.sum(window) > _max:\n",
    "            _max = np.sum(window)\n",
    "            _max_window = window\n",
    "    return _max_window"
   ]
  },
  {
   "cell_type": "code",
   "execution_count": 7,
   "metadata": {
    "collapsed": false
   },
   "outputs": [],
   "source": [
    "# Getting the list of output features.\n",
    "description = [i.split(\"\\t\")[2] + \"_in_\" + i.split(\"\\t\")[1] for i in open(\"data/deepsea/features.txt\").readlines()[1:-1]]"
   ]
  },
  {
   "cell_type": "code",
   "execution_count": 8,
   "metadata": {
    "collapsed": true
   },
   "outputs": [],
   "source": [
    "#Generating predictions\n",
    "prediction = dsmodel.predict(valid_X)"
   ]
  },
  {
   "cell_type": "code",
   "execution_count": 11,
   "metadata": {
    "collapsed": true
   },
   "outputs": [],
   "source": [
    "def visualize_explanations(TFindex, description, prediction, ifshow=False):\n",
    "    path = \"figures/explanations/shap_true_positives_\"+description[TFindex]+\".png\"\n",
    "    if os.path.isfile(path) and not ifshow:\n",
    "        return False\n",
    "    \n",
    "    ig = integrated_gradients(dsmodel, [TFindex], verbose=0)\n",
    "    indexes = [i for i in range(len(valid_Y[:,TFindex])) if valid_Y[:,TFindex][i] == 1 and prediction[:, TFindex][i] > 0.5]\n",
    "    \n",
    "    wsize = 40\n",
    "    column = 3\n",
    "    scale = 0.1\n",
    "    \n",
    "    plt.figure(figsize=(scale*wsize*column,4*scale*ceil(len(indexes)*1.0/column)))\n",
    "    plt.suptitle(description[TFindex], fontsize=15)\n",
    "\n",
    "    count = 0\n",
    "    for index in indexes:\n",
    "        plt.subplot(ceil(len(indexes)*1.0/column), column, count+1)\n",
    "        #Look at explanation for 200 bps in the central region.\n",
    "        ex = ig.explain(valid_X[index])[0][400:600,:]\n",
    "        ex = np.transpose(ex)\n",
    "\n",
    "        #Ignore negative Shapley\n",
    "        ex[ex < 0] = 0\n",
    "\n",
    "        #Extract 30 bp subwindow with highst explanation weight\n",
    "        window = extract_max_window(ex, size=wsize)\n",
    "\n",
    "        #Plot\n",
    "        plt.bar(range(wsize), window[0,:], color=\"blue\", width=1, linewidth=0, alpha=0.7)\n",
    "        plt.bar(range(wsize), window[1,:], bottom=window[0,:], color=\"red\", width=1, linewidth=0, alpha=0.7)\n",
    "        plt.bar(range(wsize), window[2,:], bottom=window[0,:]+window[1,:], color=\"green\", width=1, linewidth=0, alpha=0.7)\n",
    "        plt.bar(range(wsize), window[3,:], bottom=window[0,:]+window[1,:]+window[2,:], color=\"yellow\", width=1, linewidth=0, alpha=0.7)\n",
    "        plt.yticks([],[])\n",
    "        plt.xticks([],[])\n",
    "        plt.ylim(0,0.2)\n",
    "\n",
    "        count += 1\n",
    "\n",
    "    if ifshow:\n",
    "        plt.show()\n",
    "    else:\n",
    "        plt.savefig(path)\n",
    "        plt.close()"
   ]
  },
  {
   "cell_type": "code",
   "execution_count": 12,
   "metadata": {
    "collapsed": false
   },
   "outputs": [
    {
     "data": {
      "image/png": "[encoded data removed]",
      "text/plain": [
       "<matplotlib.figure.Figure at 0x7fdb0df50450>"
      ]
     },
     "metadata": {},
     "output_type": "display_data"
    }
   ],
   "source": [
    "#Generating for the first input as a sample.\n",
    "visualize_explanations(0, description, prediction, ifshow=True)"
   ]
  },
  {
   "cell_type": "code",
   "execution_count": 13,
   "metadata": {
    "collapsed": false
   },
   "outputs": [],
   "source": [
    "#Generating it for all outputs!\n",
    "for i in range(1):\n",
    "    try:\n",
    "        visualize_explanations(i, description, prediction)\n",
    "    except:\n",
    "        pass"
   ]
  },
  {
   "cell_type": "markdown",
   "metadata": {},
   "source": [
    "# Clusting explanations to identify motifs."
   ]
  },
  {
   "cell_type": "markdown",
   "metadata": {
    "collapsed": true
   },
   "source": [
    "This needs to be implemented"
   ]
  },
  {
   "cell_type": "code",
   "execution_count": null,
   "metadata": {
    "collapsed": true
   },
   "outputs": [],
   "source": []
  }
 ],
 "metadata": {
  "kernelspec": {
   "display_name": "Python 2",
   "language": "python",
   "name": "python2"
  },
  "language_info": {
   "codemirror_mode": {
    "name": "ipython",
    "version": 2
   },
   "file_extension": ".py",
   "mimetype": "text/x-python",
   "name": "python",
   "nbconvert_exporter": "python",
   "pygments_lexer": "ipython2",
   "version": "2.7.13"
  }
 },
 "nbformat": 4,
 "nbformat_minor": 2
}
