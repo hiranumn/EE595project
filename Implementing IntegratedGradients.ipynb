{
 "cells": [
  {
   "cell_type": "code",
   "execution_count": 2,
   "metadata": {
    "collapsed": false
   },
   "outputs": [],
   "source": [
    "%matplotlib inline\n",
    "\n",
    "from deepsea import *\n",
    "from keras.models import load_model\n",
    "\n",
    "import seaborn as sns\n",
    "import matplotlib.pyplot as plt\n",
    "\n",
    "from time import sleep\n",
    "import sys"
   ]
  },
  {
   "cell_type": "code",
   "execution_count": 6,
   "metadata": {
    "collapsed": false
   },
   "outputs": [],
   "source": [
    "dsmodel = load_model(\"models/deepsea/weights-improvement-09-0.06-full.hdf5\")"
   ]
  },
  {
   "cell_type": "code",
   "execution_count": 7,
   "metadata": {
    "collapsed": false
   },
   "outputs": [],
   "source": [
    "dsmodel.compile(optimizer='adam',\n",
    "              loss='binary_crossentropy',\n",
    "              metrics=['accuracy'])"
   ]
  },
  {
   "cell_type": "code",
   "execution_count": 8,
   "metadata": {
    "collapsed": true
   },
   "outputs": [],
   "source": [
    "valid_X, valid_Y, train_X, train_Y, test_X, test_Y = loaddata()"
   ]
  },
  {
   "cell_type": "markdown",
   "metadata": {},
   "source": [
    "# Gradients test code (partial derivative)\n",
    "gradient of the output with respect to inputs"
   ]
  },
  {
   "cell_type": "code",
   "execution_count": 12,
   "metadata": {
    "collapsed": false
   },
   "outputs": [],
   "source": [
    "from keras.layers import Input, Dense\n",
    "from keras.models import Model\n",
    "from keras.utils.np_utils import to_categorical\n",
    "import keras.backend as K\n",
    "\n",
    "model = Sequential()\n",
    "probs = model.add(Dense(2, activation='sigmoid', input_shape=[3]))\n",
    "model.compile(optimizer='sgd', loss='binary_crossentropy')"
   ]
  },
  {
   "cell_type": "code",
   "execution_count": 13,
   "metadata": {
    "collapsed": false
   },
   "outputs": [],
   "source": [
    "gradients = model.optimizer.get_gradients(model.layers[-1].output.flatten()[0], model.layers[0].input) # gradient tensors"
   ]
  },
  {
   "cell_type": "code",
   "execution_count": 14,
   "metadata": {
    "collapsed": false
   },
   "outputs": [],
   "source": [
    "input_tensors = [model.inputs[0], # input data\n",
    "                 model.model.sample_weights[0], # how much to weight each sample by\n",
    "                 #model.model.targets[0], # labels\n",
    "                 K.learning_phase(), # train or test mode\n",
    "]\n",
    "\n",
    "get_gradients = K.function(inputs=input_tensors, outputs=gradients)"
   ]
  },
  {
   "cell_type": "code",
   "execution_count": 15,
   "metadata": {
    "collapsed": false
   },
   "outputs": [
    {
     "data": {
      "text/plain": [
       "array([[-0.02419206, -0.01175148, -0.10234397]], dtype=float32)"
      ]
     },
     "execution_count": 15,
     "metadata": {},
     "output_type": "execute_result"
    }
   ],
   "source": [
    "inputs = [[[0, 1, 2]], # X\n",
    "          [1], # sample weights\n",
    "          #[[0]], # y\n",
    "          0 # learning phase in TEST mode\n",
    "]\n",
    "get_gradients(inputs)"
   ]
  },
  {
   "cell_type": "markdown",
   "metadata": {},
   "source": [
    "# Gradients test code (multiple outputs)\n",
    "gradient of the output with respect to inputs (jacobian using theano function)"
   ]
  },
  {
   "cell_type": "code",
   "execution_count": 16,
   "metadata": {
    "collapsed": true
   },
   "outputs": [],
   "source": [
    "import theano\n",
    "import theano.tensor as T\n",
    "from keras.models import Sequential\n",
    "from keras.layers import Dense, Activation\n",
    "import numpy as np\n",
    "\n",
    "model = Sequential([\n",
    "    Dense(32, input_dim=4),\n",
    "    Activation('relu'),\n",
    "    Dense(2),\n",
    "    Activation('sigmoid'),\n",
    "])\n",
    "\n",
    "model.compile(optimizer='sgd', loss='binary_crossentropy')"
   ]
  },
  {
   "cell_type": "code",
   "execution_count": 17,
   "metadata": {
    "collapsed": true
   },
   "outputs": [],
   "source": [
    "input_tensors = [model.inputs[0], # input data\n",
    "                 model.model.sample_weights[0], # how much to weight each sample by\n",
    "                 K.learning_phase(), # train or test mode\n",
    "]"
   ]
  },
  {
   "cell_type": "code",
   "execution_count": 18,
   "metadata": {
    "collapsed": true
   },
   "outputs": [],
   "source": [
    "gradients = T.jacobian(model.layers[-1].output.flatten(), model.inputs)"
   ]
  },
  {
   "cell_type": "code",
   "execution_count": 19,
   "metadata": {
    "collapsed": true
   },
   "outputs": [],
   "source": [
    "get_gradients = K.function(inputs=input_tensors, outputs=gradients)"
   ]
  },
  {
   "cell_type": "code",
   "execution_count": 20,
   "metadata": {
    "collapsed": false
   },
   "outputs": [],
   "source": [
    "inputs = [[[0, 1, 2, 3], [0,1,2,3 ]], # X\n",
    "          [1, 1], # sample weights\n",
    "          0 # learning phase in TEST mode\n",
    "]\n",
    "grad = get_gradients(inputs)[0]"
   ]
  },
  {
   "cell_type": "markdown",
   "metadata": {},
   "source": [
    "# Building model on the UCI iris data\n",
    "\n",
    "Starting with simple one vs all classification"
   ]
  },
  {
   "cell_type": "markdown",
   "metadata": {},
   "source": [
    "Loading iris data from UCI repo"
   ]
  },
  {
   "cell_type": "code",
   "execution_count": 24,
   "metadata": {
    "collapsed": false
   },
   "outputs": [],
   "source": [
    "X = np.array([[float(j) for j in i.rstrip().split(\",\")[:-1]] for i in open(\"data/uci_iris/iris.data\").readlines()][:-1])"
   ]
  },
  {
   "cell_type": "code",
   "execution_count": 25,
   "metadata": {
    "collapsed": false
   },
   "outputs": [],
   "source": [
    "labels = list(set([i.rstrip().split(\",\")[-1] for i in open(\"data/uci_iris/iris.data\").readlines()][:-1]))\n",
    "labels.reverse()"
   ]
  },
  {
   "cell_type": "code",
   "execution_count": 26,
   "metadata": {
    "collapsed": false
   },
   "outputs": [],
   "source": [
    "Y = np.array([[1,0,0] for i in range(50)] + [[0,1,0] for i in range(50)] + [[0,0,1] for i in range(50)])"
   ]
  },
  {
   "cell_type": "code",
   "execution_count": 27,
   "metadata": {
    "collapsed": true
   },
   "outputs": [],
   "source": [
    "model = Sequential([\n",
    "    Dense(3, input_dim=4),\n",
    "    Activation('sigmoid'),\n",
    "])\n",
    "model.compile(optimizer='sgd', loss='binary_crossentropy')"
   ]
  },
  {
   "cell_type": "markdown",
   "metadata": {},
   "source": [
    "Training and writing out the prediction"
   ]
  },
  {
   "cell_type": "code",
   "execution_count": 28,
   "metadata": {
    "collapsed": false
   },
   "outputs": [],
   "source": [
    "history = model.fit(X, Y,\n",
    "          epochs=300, batch_size=10,\n",
    "          validation_split=0.1, verbose=0)"
   ]
  },
  {
   "cell_type": "code",
   "execution_count": 29,
   "metadata": {
    "collapsed": false
   },
   "outputs": [],
   "source": [
    "pred = model.predict(X)\n",
    "pred = np.transpose(pred)"
   ]
  },
  {
   "cell_type": "code",
   "execution_count": 30,
   "metadata": {
    "collapsed": false
   },
   "outputs": [
    {
     "data": {
      "text/plain": [
       "<matplotlib.text.Text at 0x7f1bd22ac050>"
      ]
     },
     "execution_count": 30,
     "metadata": {},
     "output_type": "execute_result"
    },
    {
     "data": {
      "image/png": "[encoded data removed]",
      "text/plain": [
       "<matplotlib.figure.Figure at 0x7f1bd2306050>"
      ]
     },
     "metadata": {},
     "output_type": "display_data"
    }
   ],
   "source": [
    "plt.figure(figsize=(10,1))\n",
    "sns.heatmap(pred, cbar=False)\n",
    "plt.xticks([],[])\n",
    "plt.yticks([i+0.5 for i in range(3)], labels, rotation=\"horizontal\")\n",
    "plt.xlabel(\"samples (150)\")"
   ]
  },
  {
   "cell_type": "code",
   "execution_count": 31,
   "metadata": {
    "collapsed": false
   },
   "outputs": [
    {
     "data": {
      "text/plain": [
       "<matplotlib.text.Text at 0x7f1bd2009210>"
      ]
     },
     "execution_count": 31,
     "metadata": {},
     "output_type": "execute_result"
    },
    {
     "data": {
      "image/png": "[encoded data removed]",
      "text/plain": [
       "<matplotlib.figure.Figure at 0x7f1bd4f9a710>"
      ]
     },
     "metadata": {},
     "output_type": "display_data"
    }
   ],
   "source": [
    "arg = np.argmax(pred, axis=0)\n",
    "binary = np.zeros(pred.shape)\n",
    "index = 0\n",
    "for i in arg:\n",
    "    binary[i, index] = 1\n",
    "    index += 1\n",
    "    \n",
    "plt.figure(figsize=(10,1))\n",
    "sns.heatmap(binary, cbar=False)\n",
    "plt.xticks([],[])\n",
    "plt.yticks([i+0.5 for i in range(3)], labels, rotation=\"horizontal\")\n",
    "plt.xlabel(\"samples (150)\")"
   ]
  },
  {
   "cell_type": "markdown",
   "metadata": {},
   "source": [
    "# Explaining the predictions with IntegratedGradients\n",
    "\n",
    "The paper is published by researchers from Google (https://arxiv.org/pdf/1703.01365.pdf) and it is very simple to implement.   \n",
    "We implement this in python and see how it works."
   ]
  },
  {
   "cell_type": "code",
   "execution_count": 32,
   "metadata": {
    "collapsed": false
   },
   "outputs": [],
   "source": [
    "# creating samples needed for integrated gradient\n",
    "def linear_ip(sample, reference=False, steps=50):\n",
    "    if not(reference): reference = np.zeros(len(sample));\n",
    "    ret = np.zeros(tuple([steps] +[i for i in sample.shape]))\n",
    "    for f in range(len(sample)):\n",
    "        for s in range(steps):\n",
    "            ret[s, f] = reference[f]+(sample[f]-reference[f])*(s*1.0/steps)\n",
    "    return np.array(ret), steps, np.array([(sample[f]-reference[f])*1.0/steps for f in range(len(sample))])"
   ]
  },
  {
   "cell_type": "code",
   "execution_count": 33,
   "metadata": {
    "collapsed": false
   },
   "outputs": [],
   "source": [
    "class integrated_gradients:\n",
    "    \n",
    "    def __init__(self, model):\n",
    "        #load model\n",
    "        self.model = model\n",
    "        \n",
    "        #load input tensors\n",
    "        self.input_tensors = [model.inputs[0], # input data\n",
    "                 model.model.sample_weights[0], # how much to weight each sample by\n",
    "                 #model.model.targets[0], # labels\n",
    "                 K.learning_phase()\n",
    "                 ]\n",
    "        \n",
    "        # jacobian will break on a network with dropout\n",
    "        gradients = T.jacobian(self.model.layers[-1].output.flatten(), self.model.inputs)        \n",
    "        self.get_gradients = K.function(inputs=self.input_tensors, outputs=gradients)\n",
    "        \n",
    "    # using Jacobian\n",
    "    def explain(self, sample):\n",
    "        linear_interpolated_samples, steps, stepsize = linear_ip(sample)\n",
    "        inputs = [linear_interpolated_samples, # X\n",
    "          np.ones(steps+1), # sample weights\n",
    "          #[np.ones(steps+1)], # y\n",
    "          0 # learning phase in TEST mode\n",
    "          ]\n",
    "        \n",
    "        \n",
    "        insta_gradients = self.get_gradients(inputs)[0]\n",
    "        explanation = np.zeros((self.model.output._keras_shape[1], len(sample)))\n",
    "        \n",
    "        #print insta_gradients\n",
    "        for f in range(self.model.output._keras_shape[1]):\n",
    "            for i in range(steps):\n",
    "                explanation[f,:] += np.multiply(insta_gradients[i*3+f, i], stepsize)\n",
    "                #print insta_gradients[i*3+f, i]\n",
    "        \n",
    "        return explanation"
   ]
  },
  {
   "cell_type": "code",
   "execution_count": 34,
   "metadata": {
    "collapsed": false
   },
   "outputs": [],
   "source": [
    "class integrated_gradients2:\n",
    "    \n",
    "    def __init__(self, model, outchannels=False):\n",
    "        #load model\n",
    "        self.model = model\n",
    "        \n",
    "        #load input tensors\n",
    "        self.input_tensors = [model.inputs[0], # input data\n",
    "                 model.model.sample_weights[0], # how much to weight each sample by\n",
    "                 #model.model.targets[0], # labels\n",
    "                 K.learning_phase()\n",
    "                 ]\n",
    "        self.get_gradients = {}\n",
    "        \n",
    "        \n",
    "        if not outchannels:\n",
    "            outchannels = range(self.model.output._keras_shape[1])\n",
    "        \n",
    "        outnum = len(outchannels)\n",
    "            \n",
    "        for f in outchannels:\n",
    "            gradients = model.optimizer.get_gradients(model.layers[-1].output.flatten()[f], model.inputs)\n",
    "            self.get_gradients[f] = K.function(inputs=self.input_tensors, outputs=gradients)\n",
    "            \n",
    "            sys.stdout.write('\\r')\n",
    "            sys.stdout.write(str(int((f+1)*1.0/outnum*1000)*1.0/10)+\"%\")\n",
    "            sys.stdout.flush()\n",
    "        \n",
    "    # using partial derivative.\n",
    "    def explain(self, sample, outf=0):\n",
    "        linear_interpolated_samples, steps, stepsize = linear_ip(sample)\n",
    "        \n",
    "        ###################################################################\n",
    "        # Potentially use scan or re-implement jacobian without assertion #\n",
    "        ###################################################################\n",
    "        \n",
    "        explanation = np.zeros(sample.shape)\n",
    "        \n",
    "        for i in range(steps):\n",
    "            _input = [linear_interpolated_samples[i:i+1,:], # X\n",
    "              [1], # sample weights\n",
    "              #[np.ones(steps+1)], # y\n",
    "              0 # learning phase in TEST mode\n",
    "              ]\n",
    "            insta_gradients = self.get_gradients[outf](_input)[0]\n",
    "            explanation += np.multiply(insta_gradients[0,:], stepsize)\n",
    "            \n",
    "        return explanation"
   ]
  },
  {
   "cell_type": "code",
   "execution_count": 35,
   "metadata": {
    "collapsed": true
   },
   "outputs": [],
   "source": [
    "ig = integrated_gradients(model)"
   ]
  },
  {
   "cell_type": "code",
   "execution_count": 54,
   "metadata": {
    "collapsed": false
   },
   "outputs": [
    {
     "name": "stdout",
     "output_type": "stream",
     "text": [
      "100.0%"
     ]
    }
   ],
   "source": [
    "ig2 = integrated_gradients2(model)"
   ]
  },
  {
   "cell_type": "code",
   "execution_count": 39,
   "metadata": {
    "collapsed": false
   },
   "outputs": [],
   "source": [
    "data = np.zeros((12,150))\n",
    "for i in range(len(X)):\n",
    "    data[:, i] += ig.explain(X[i]).reshape((12,))"
   ]
  },
  {
   "cell_type": "code",
   "execution_count": 41,
   "metadata": {
    "collapsed": false,
    "scrolled": true
   },
   "outputs": [
    {
     "data": {
      "text/plain": [
       "<matplotlib.text.Text at 0x7f1bd4f5c8d0>"
      ]
     },
     "execution_count": 41,
     "metadata": {},
     "output_type": "execute_result"
    },
    {
     "data": {
      "image/png": "[encoded data removed]",
      "text/plain": [
       "<matplotlib.figure.Figure at 0x7f16427a2790>"
      ]
     },
     "metadata": {},
     "output_type": "display_data"
    }
   ],
   "source": [
    "plt.figure(figsize=(10,3))\n",
    "ax = sns.heatmap(data, cbar=False)\n",
    "plt.xticks([],[])\n",
    "plt.yticks([i*4+2 for i in range(3)], labels)\n",
    "plt.xlabel(\"samples (150)\")\n",
    "ax2 = ax.twinx()\n",
    "ax2.set_yticks([i+0.5 for i in range(12)])\n",
    "ax2.set_yticklabels([\"petal width\", \"petal length\", \"sepal width\", \"sepal length\"]*3)\n",
    "ax2.set_ylim(0,12)\n",
    "ax2.grid(False)\n",
    "plt.title(\"Explanation for UCI Iris data (Jacobian matrix)\")"
   ]
  },
  {
   "cell_type": "code",
   "execution_count": 58,
   "metadata": {
    "collapsed": false
   },
   "outputs": [],
   "source": [
    "data2 = np.zeros((4,150))\n",
    "for i in range(len(X)):\n",
    "    data2[:, i] += ig2.explain(X[i], 2).reshape((4,))"
   ]
  },
  {
   "cell_type": "code",
   "execution_count": 59,
   "metadata": {
    "collapsed": false
   },
   "outputs": [
    {
     "data": {
      "text/plain": [
       "<matplotlib.text.Text at 0x7f1641f71790>"
      ]
     },
     "execution_count": 59,
     "metadata": {},
     "output_type": "execute_result"
    },
    {
     "data": {
      "image/png": "[encoded data removed]",
      "text/plain": [
       "<matplotlib.figure.Figure at 0x7f1bbc4a6510>"
      ]
     },
     "metadata": {},
     "output_type": "display_data"
    }
   ],
   "source": [
    "plt.figure(figsize=(10,1))\n",
    "ax = sns.heatmap(data2, cbar=False)\n",
    "plt.xticks([],[])\n",
    "plt.yticks([],[])\n",
    "plt.ylabel(labels[-1])\n",
    "plt.xlabel(\"samples (150)\")\n",
    "ax2 = ax.twinx()\n",
    "ax2.set_yticks([i+0.5 for i in range(4)])\n",
    "ax2.set_yticklabels([\"petal width\", \"petal length\", \"sepal width\", \"sepal length\"])\n",
    "ax2.set_ylim(0,4)\n",
    "ax2.grid(False)\n",
    "plt.title(\"Explanation for UCI Iris data (Partial derivative)\")"
   ]
  },
  {
   "cell_type": "code",
   "execution_count": 60,
   "metadata": {
    "collapsed": false
   },
   "outputs": [
    {
     "data": {
      "text/plain": [
       "<matplotlib.text.Text at 0x7f1bbd207bd0>"
      ]
     },
     "execution_count": 60,
     "metadata": {},
     "output_type": "execute_result"
    },
    {
     "data": {
      "image/png": "[encoded data removed]",
      "text/plain": [
       "<matplotlib.figure.Figure at 0x7f1642818210>"
      ]
     },
     "metadata": {},
     "output_type": "display_data"
    }
   ],
   "source": [
    "plt.figure(figsize=(10,0.25))\n",
    "\n",
    "ax = sns.heatmap(np.sum(data2, axis=0).reshape((1, 150)), cbar=False)\n",
    "plt.xticks([],[])\n",
    "plt.yticks([],[])\n",
    "plt.ylabel(labels[-1])\n",
    "plt.xlabel(\"samples (150)\")\n",
    "plt.title(\"Sum of estimated Shaply values\")"
   ]
  },
  {
   "cell_type": "markdown",
   "metadata": {},
   "source": [
    "# Explaning the deepsea model with integrated gradients\n",
    "\n",
    "We are looking at estimated Shaply values assigned to the central 400-600bp of 1000bp windows using seaborn heatmap.  \n",
    "You can see conserved sequence pattern appearing in the 1000 bp windows."
   ]
  },
  {
   "cell_type": "code",
   "execution_count": 88,
   "metadata": {
    "collapsed": true
   },
   "outputs": [],
   "source": [
    "prediction = dsmodel.predict(valid_X)"
   ]
  },
  {
   "cell_type": "code",
   "execution_count": 89,
   "metadata": {
    "collapsed": false
   },
   "outputs": [
    {
     "name": "stdout",
     "output_type": "stream",
     "text": [
      "\r",
      "100.0%"
     ]
    }
   ],
   "source": [
    "ig2 = integrated_gradients2(dsmodel, [0])"
   ]
  },
  {
   "cell_type": "code",
   "execution_count": 90,
   "metadata": {
    "collapsed": false
   },
   "outputs": [],
   "source": [
    "indexes = [i for i in range(len(valid_Y[:,0])) if valid_Y[:,0][i] == 1 and prediction[:, 0][i] > 0.4]"
   ]
  },
  {
   "cell_type": "code",
   "execution_count": 91,
   "metadata": {
    "collapsed": false,
    "scrolled": false
   },
   "outputs": [
    {
     "data": {
      "image/png": "[encoded data removed]",
      "text/plain": [
       "<matplotlib.figure.Figure at 0x7f1642565b10>"
      ]
     },
     "metadata": {},
     "output_type": "display_data"
    },
    {
     "data": {
      "image/png": "[encoded data removed]",
      "text/plain": [
       "<matplotlib.figure.Figure at 0x7f164382b1d0>"
      ]
     },
     "metadata": {},
     "output_type": "display_data"
    },
    {
     "data": {
      "image/png": "[encoded data removed]",
      "text/plain": [
       "<matplotlib.figure.Figure at 0x7f1bc413ee90>"
      ]
     },
     "metadata": {},
     "output_type": "display_data"
    },
    {
     "data": {
      "image/png": "[encoded data removed]",
      "text/plain": [
       "<matplotlib.figure.Figure at 0x7f1bb7412fd0>"
      ]
     },
     "metadata": {},
     "output_type": "display_data"
    },
    {
     "data": {
      "image/png": "[encoded data removed]",
      "text/plain": [
       "<matplotlib.figure.Figure at 0x7f1bb6ff1f50>"
      ]
     },
     "metadata": {},
     "output_type": "display_data"
    },
    {
     "data": {
      "image/png": "[encoded data removed]",
      "text/plain": [
       "<matplotlib.figure.Figure at 0x7f163bf80990>"
      ]
     },
     "metadata": {},
     "output_type": "display_data"
    },
    {
     "data": {
      "image/png": "[encoded data removed]",
      "text/plain": [
       "<matplotlib.figure.Figure at 0x7f1643d57c90>"
      ]
     },
     "metadata": {},
     "output_type": "display_data"
    },
    {
     "data": {
      "image/png": "[encoded data removed]",
      "text/plain": [
       "<matplotlib.figure.Figure at 0x7f1bbe32eb50>"
      ]
     },
     "metadata": {},
     "output_type": "display_data"
    },
    {
     "data": {
      "image/png": "[encoded data removed]",
      "text/plain": [
       "<matplotlib.figure.Figure at 0x7f1bbe2e4f10>"
      ]
     },
     "metadata": {},
     "output_type": "display_data"
    },
    {
     "data": {
      "image/png": "[encoded data removed]",
      "text/plain": [
       "<matplotlib.figure.Figure at 0x7f16425b39d0>"
      ]
     },
     "metadata": {},
     "output_type": "display_data"
    },
    {
     "data": {
      "image/png": "[encoded data removed]",
      "text/plain": [
       "<matplotlib.figure.Figure at 0x7f16449f7150>"
      ]
     },
     "metadata": {},
     "output_type": "display_data"
    },
    {
     "data": {
      "image/png": "[encoded data removed]",
      "text/plain": [
       "<matplotlib.figure.Figure at 0x7f1bbdf65b50>"
      ]
     },
     "metadata": {},
     "output_type": "display_data"
    },
    {
     "data": {
      "image/png": "[encoded data removed]",
      "text/plain": [
       "<matplotlib.figure.Figure at 0x7f1bb7340fd0>"
      ]
     },
     "metadata": {},
     "output_type": "display_data"
    },
    {
     "data": {
      "image/png": "[encoded data removed]",
      "text/plain": [
       "<matplotlib.figure.Figure at 0x7f1bbe26a250>"
      ]
     },
     "metadata": {},
     "output_type": "display_data"
    },
    {
     "data": {
      "image/png": "[encoded data removed]",
      "text/plain": [
       "<matplotlib.figure.Figure at 0x7f1642a3d1d0>"
      ]
     },
     "metadata": {},
     "output_type": "display_data"
    },
    {
     "data": {
      "image/png": "[encoded data removed]",
      "text/plain": [
       "<matplotlib.figure.Figure at 0x7f1642031fd0>"
      ]
     },
     "metadata": {},
     "output_type": "display_data"
    },
    {
     "data": {
      "image/png": "[encoded data removed]",
      "text/plain": [
       "<matplotlib.figure.Figure at 0x7f1bc40d4f10>"
      ]
     },
     "metadata": {},
     "output_type": "display_data"
    },
    {
     "data": {
      "image/png": "[encoded data removed]",
      "text/plain": [
       "<matplotlib.figure.Figure at 0x7f1bbc13a450>"
      ]
     },
     "metadata": {},
     "output_type": "display_data"
    },
    {
     "data": {
      "image/png": "[encoded data removed]",
      "text/plain": [
       "<matplotlib.figure.Figure at 0x7f1641ee9750>"
      ]
     },
     "metadata": {},
     "output_type": "display_data"
    },
    {
     "data": {
      "image/png": "[encoded data removed]",
      "text/plain": [
       "<matplotlib.figure.Figure at 0x7f1bbe259f90>"
      ]
     },
     "metadata": {},
     "output_type": "display_data"
    },
    {
     "data": {
      "image/png": "[encoded data removed]",
      "text/plain": [
       "<matplotlib.figure.Figure at 0x7f1bb6f8bed0>"
      ]
     },
     "metadata": {},
     "output_type": "display_data"
    },
    {
     "data": {
      "image/png": "[encoded data removed]",
      "text/plain": [
       "<matplotlib.figure.Figure at 0x7f16449c97d0>"
      ]
     },
     "metadata": {},
     "output_type": "display_data"
    },
    {
     "data": {
      "image/png": "[encoded data removed]",
      "text/plain": [
       "<matplotlib.figure.Figure at 0x7f1bbc8d82d0>"
      ]
     },
     "metadata": {},
     "output_type": "display_data"
    },
    {
     "data": {
      "image/png": "[encoded data removed]",
      "text/plain": [
       "<matplotlib.figure.Figure at 0x7f1642089f50>"
      ]
     },
     "metadata": {},
     "output_type": "display_data"
    },
    {
     "data": {
      "image/png": "[encoded data removed]",
      "text/plain": [
       "<matplotlib.figure.Figure at 0x7f1bbdfacf50>"
      ]
     },
     "metadata": {},
     "output_type": "display_data"
    },
    {
     "data": {
      "image/png": "[encoded data removed]",
      "text/plain": [
       "<matplotlib.figure.Figure at 0x7f1bbcf44fd0>"
      ]
     },
     "metadata": {},
     "output_type": "display_data"
    },
    {
     "data": {
      "image/png": "[encoded data removed]",
      "text/plain": [
       "<matplotlib.figure.Figure at 0x7f16435da7d0>"
      ]
     },
     "metadata": {},
     "output_type": "display_data"
    },
    {
     "data": {
      "image/png": "[encoded data removed]",
      "text/plain": [
       "<matplotlib.figure.Figure at 0x7f1bbe082a90>"
      ]
     },
     "metadata": {},
     "output_type": "display_data"
    },
    {
     "data": {
      "image/png": "[encoded data removed]",
      "text/plain": [
       "<matplotlib.figure.Figure at 0x7f1bb73dbed0>"
      ]
     },
     "metadata": {},
     "output_type": "display_data"
    },
    {
     "data": {
      "image/png": "[encoded data removed]",
      "text/plain": [
       "<matplotlib.figure.Figure at 0x7f1bd70aef10>"
      ]
     },
     "metadata": {},
     "output_type": "display_data"
    },
    {
     "data": {
      "image/png": "[encoded data removed]",
      "text/plain": [
       "<matplotlib.figure.Figure at 0x7f163c7d0390>"
      ]
     },
     "metadata": {},
     "output_type": "display_data"
    },
    {
     "data": {
      "image/png": "[encoded data removed]",
      "text/plain": [
       "<matplotlib.figure.Figure at 0x7f1bbe067c50>"
      ]
     },
     "metadata": {},
     "output_type": "display_data"
    },
    {
     "data": {
      "image/png": "[encoded data removed]",
      "text/plain": [
       "<matplotlib.figure.Figure at 0x7f1bbe252ed0>"
      ]
     },
     "metadata": {},
     "output_type": "display_data"
    },
    {
     "data": {
      "image/png": "[encoded data removed]",
      "text/plain": [
       "<matplotlib.figure.Figure at 0x7f163bf55a10>"
      ]
     },
     "metadata": {},
     "output_type": "display_data"
    },
    {
     "data": {
      "image/png": "[encoded data removed]",
      "text/plain": [
       "<matplotlib.figure.Figure at 0x7f1bbc1046d0>"
      ]
     },
     "metadata": {},
     "output_type": "display_data"
    },
    {
     "data": {
      "image/png": "[encoded data removed]",
      "text/plain": [
       "<matplotlib.figure.Figure at 0x7f164204df50>"
      ]
     },
     "metadata": {},
     "output_type": "display_data"
    },
    {
     "data": {
      "image/png": "[encoded data removed]",
      "text/plain": [
       "<matplotlib.figure.Figure at 0x7f1bb70acf90>"
      ]
     },
     "metadata": {},
     "output_type": "display_data"
    },
    {
     "data": {
      "image/png": "[encoded data removed]",
      "text/plain": [
       "<matplotlib.figure.Figure at 0x7f1bbcd16110>"
      ]
     },
     "metadata": {},
     "output_type": "display_data"
    },
    {
     "data": {
      "image/png": "[encoded data removed]",
      "text/plain": [
       "<matplotlib.figure.Figure at 0x7f163b6af790>"
      ]
     },
     "metadata": {},
     "output_type": "display_data"
    },
    {
     "data": {
      "image/png": "[encoded data removed]",
      "text/plain": [
       "<matplotlib.figure.Figure at 0x7f1bbe13df50>"
      ]
     },
     "metadata": {},
     "output_type": "display_data"
    },
    {
     "data": {
      "image/png": "[encoded data removed]",
      "text/plain": [
       "<matplotlib.figure.Figure at 0x7f1bb71f2ed0>"
      ]
     },
     "metadata": {},
     "output_type": "display_data"
    },
    {
     "data": {
      "image/png": "[encoded data removed]",
      "text/plain": [
       "<matplotlib.figure.Figure at 0x7f1642a23490>"
      ]
     },
     "metadata": {},
     "output_type": "display_data"
    },
    {
     "data": {
      "image/png": "[encoded data removed]",
      "text/plain": [
       "<matplotlib.figure.Figure at 0x7f1bbc714a50>"
      ]
     },
     "metadata": {},
     "output_type": "display_data"
    }
   ],
   "source": [
    "for index in indexes:\n",
    "    ex = ig2.explain(valid_X[index])\n",
    "    plt.figure(figsize=(12,0.4))\n",
    "    sns.heatmap(np.transpose(ex[0,400:600]), cbar=False, vmin=-0.05, vmax=0.05)\n",
    "    plt.yticks([],[])\n",
    "    plt.xticks([],[])\n",
    "    plt.show()"
   ]
  }
 ],
 "metadata": {
  "kernelspec": {
   "display_name": "Python 2",
   "language": "python",
   "name": "python2"
  },
  "language_info": {
   "codemirror_mode": {
    "name": "ipython",
    "version": 2
   },
   "file_extension": ".py",
   "mimetype": "text/x-python",
   "name": "python",
   "nbconvert_exporter": "python",
   "pygments_lexer": "ipython2",
   "version": "2.7.13"
  }
 },
 "nbformat": 4,
 "nbformat_minor": 2
}
