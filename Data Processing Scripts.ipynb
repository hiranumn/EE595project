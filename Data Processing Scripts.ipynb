{
 "cells": [
  {
   "cell_type": "code",
   "execution_count": 1,
   "metadata": {
    "collapsed": false
   },
   "outputs": [
    {
     "name": "stderr",
     "output_type": "stream",
     "text": [
      "Using Theano backend.\n",
      "WARNING (theano.sandbox.cuda): The cuda backend is deprecated and will be removed in the next release (v0.10).  Please switch to the gpuarray backend. You can get more information about how to switch at this URL:\n",
      " https://github.com/Theano/Theano/wiki/Converting-to-the-new-gpu-back-end%28gpuarray%29\n",
      "\n",
      "Using gpu device 0: GeForce GTX 980 Ti (CNMeM is disabled, cuDNN 5005)\n"
     ]
    }
   ],
   "source": [
    "%matplotlib inline\n",
    "\n",
    "from keras.models import Sequential\n",
    "from keras.layers import Flatten, Dense, Dropout\n",
    "from keras.layers import Reshape\n",
    "from keras.layers.core import Activation\n",
    "from keras.layers.normalization import BatchNormalization\n",
    "from keras.layers.convolutional import UpSampling2D\n",
    "from keras.layers.convolutional import Conv2D, MaxPooling2D\n",
    "from keras.layers.core import Flatten\n",
    "from keras.optimizers import SGD\n",
    "from keras import regularizers\n",
    "from keras.callbacks import ModelCheckpoint\n",
    "\n",
    "from sklearn.preprocessing import binarize\n",
    "from sklearn.metrics import average_precision_score\n",
    "from sklearn.metrics import roc_auc_score\n",
    "\n",
    "import numpy as np\n",
    "import scipy as sp\n",
    "import scipy.io as sio\n",
    "\n",
    "import h5py\n",
    "\n",
    "import seaborn as sns\n",
    "import matplotlib.pyplot as plt\n",
    "\n",
    "import pickle\n",
    "\n",
    "from deepsea import *"
   ]
  },
  {
   "cell_type": "code",
   "execution_count": 52,
   "metadata": {
    "collapsed": false
   },
   "outputs": [],
   "source": [
    "train_X, train_Y = loaddata(\"data/deepsea/\", \"train\")"
   ]
  },
  {
   "cell_type": "code",
   "execution_count": 2,
   "metadata": {
    "collapsed": true
   },
   "outputs": [],
   "source": [
    "test_X, test_Y = loaddata(\"data/deepsea/\", \"test\")"
   ]
  },
  {
   "cell_type": "code",
   "execution_count": 3,
   "metadata": {
    "collapsed": true
   },
   "outputs": [],
   "source": [
    "valid_X, valid_Y = loaddata(\"data/deepsea/\", \"valid\")"
   ]
  },
  {
   "cell_type": "markdown",
   "metadata": {},
   "source": [
    "# Preparing training data for deeperSEA\n",
    "\n",
    "Extracting common histone mark signals (marks below) in 6 celltypes.   \n",
    "Also extracting \"CTCF\"  signal in the 6 celltypes to use a prediction target.\n",
    "\n",
    "**Marks**: 'H3K4me3', 'H3K4me2', 'H3K4me1', 'H2AZ', 'H3K36me3', 'H4K20me1',\n",
    "       'H3K27ac', 'H3K27me3', 'H3K9me3', 'H3K79me2', 'H3K9ac'  \n",
    "**Celltypes**: 'H1-hESC', 'NH-A', 'NHEK', 'K562', 'NHDF-Ad', 'NHLF'"
   ]
  },
  {
   "cell_type": "code",
   "execution_count": 4,
   "metadata": {
    "collapsed": false
   },
   "outputs": [],
   "source": [
    "raw = open(\"data/deepsea/features.txt\").readlines()[1:-1]\n",
    "indexmap = dict([(tuple(raw[i].split(\"\\t\")[1:3]), i) for i in range(len(raw))])"
   ]
  },
  {
   "cell_type": "code",
   "execution_count": 5,
   "metadata": {
    "collapsed": false
   },
   "outputs": [],
   "source": [
    "marks = np.append(np.load(\"data/deepersea/marks.npy\"), \"DNase\")"
   ]
  },
  {
   "cell_type": "code",
   "execution_count": 6,
   "metadata": {
    "collapsed": false
   },
   "outputs": [],
   "source": [
    "celltypes = np.load(\"data/deepersea/celltypes.npy\")"
   ]
  },
  {
   "cell_type": "code",
   "execution_count": 7,
   "metadata": {
    "collapsed": true
   },
   "outputs": [],
   "source": [
    "targets = np.load(\"data/deepersea/targets.npy\")"
   ]
  },
  {
   "cell_type": "code",
   "execution_count": 53,
   "metadata": {
    "collapsed": true
   },
   "outputs": [],
   "source": [
    "data = train_Y\n",
    "name = \"train\""
   ]
  },
  {
   "cell_type": "code",
   "execution_count": 54,
   "metadata": {
    "collapsed": false
   },
   "outputs": [],
   "source": [
    "tf = \"CTCF\"\n",
    "Ys = []\n",
    "for c in celltypes:\n",
    "    indexes = [indexmap[(c,m)] for m in marks]\n",
    "    Ys.append(data[:, indexmap[(c, tf)]])"
   ]
  },
  {
   "cell_type": "code",
   "execution_count": 55,
   "metadata": {
    "collapsed": false
   },
   "outputs": [],
   "source": [
    "indexes = [[i for i in range(len(m)) if m[i]==1] for m in Ys]"
   ]
  },
  {
   "cell_type": "code",
   "execution_count": 56,
   "metadata": {
    "collapsed": false
   },
   "outputs": [],
   "source": [
    "positives = set(indexes[0])\n",
    "for i in indexes[1:]:\n",
    "    positives = positives.union(i)\n",
    "positives = sorted(positives)"
   ]
  },
  {
   "cell_type": "code",
   "execution_count": 57,
   "metadata": {
    "collapsed": false
   },
   "outputs": [],
   "source": [
    "negatives = []\n",
    "index = 0\n",
    "for i in range(data.shape[0]):\n",
    "    try:\n",
    "        cur = positives[index]\n",
    "    except:\n",
    "        cur = -1\n",
    "        \n",
    "    if i != cur:\n",
    "        negatives.append(i)\n",
    "    else:\n",
    "        index+=1\n",
    "        \n",
    "np.random.shuffle(negatives)    "
   ]
  },
  {
   "cell_type": "code",
   "execution_count": 58,
   "metadata": {
    "collapsed": false
   },
   "outputs": [],
   "source": [
    "sample_inds = sorted(positives + negatives[:int(0.3*len(positives))])"
   ]
  },
  {
   "cell_type": "code",
   "execution_count": 59,
   "metadata": {
    "collapsed": false
   },
   "outputs": [],
   "source": [
    "tf = \"CTCF\"\n",
    "\n",
    "Y1s = None \n",
    "X1s = None\n",
    "for c in celltypes:\n",
    "    indexes = [indexmap[(c,m)] for m in marks]\n",
    "    if X1s is None:\n",
    "        Y1s = data[sample_inds, indexmap[(c, tf)]]\n",
    "        X1s = data[:, indexes][sample_inds, :]\n",
    "    else:\n",
    "        Y1s = np.concatenate([Y1s, data[sample_inds, indexmap[(c, tf)]]], axis=0)\n",
    "        X1s = np.concatenate([X1s, data[:, indexes][sample_inds, :]], axis=0)"
   ]
  },
  {
   "cell_type": "code",
   "execution_count": 60,
   "metadata": {
    "collapsed": false
   },
   "outputs": [
    {
     "data": {
      "text/plain": [
       "(651234, 3558498)"
      ]
     },
     "execution_count": 60,
     "metadata": {},
     "output_type": "execute_result"
    }
   ],
   "source": [
    "sum(Y1s), len(Y1s)"
   ]
  },
  {
   "cell_type": "code",
   "execution_count": 61,
   "metadata": {
    "collapsed": false
   },
   "outputs": [],
   "source": [
    "np.save(\"data/deepersea/\"+name+\"x\", X1s)"
   ]
  },
  {
   "cell_type": "code",
   "execution_count": 62,
   "metadata": {
    "collapsed": false
   },
   "outputs": [],
   "source": [
    "np.save(\"data/deepersea/\"+name+\"y\", Y1s)"
   ]
  },
  {
   "cell_type": "code",
   "execution_count": 63,
   "metadata": {
    "collapsed": true
   },
   "outputs": [],
   "source": [
    "np.save(\"data/deepersea/sample_index_\"+name, sample_inds)"
   ]
  },
  {
   "cell_type": "code",
   "execution_count": null,
   "metadata": {
    "collapsed": true
   },
   "outputs": [],
   "source": []
  }
 ],
 "metadata": {
  "kernelspec": {
   "display_name": "Python 2",
   "language": "python",
   "name": "python2"
  },
  "language_info": {
   "codemirror_mode": {
    "name": "ipython",
    "version": 2
   },
   "file_extension": ".py",
   "mimetype": "text/x-python",
   "name": "python",
   "nbconvert_exporter": "python",
   "pygments_lexer": "ipython2",
   "version": "2.7.13"
  }
 },
 "nbformat": 4,
 "nbformat_minor": 2
}
